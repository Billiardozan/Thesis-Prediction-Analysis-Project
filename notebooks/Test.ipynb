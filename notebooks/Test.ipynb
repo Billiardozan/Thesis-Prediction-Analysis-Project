{
 "cells": [
  {
   "cell_type": "code",
   "execution_count": 2,
   "metadata": {},
   "outputs": [
    {
     "name": "stdout",
     "output_type": "stream",
     "text": [
      "Collecting midiutil\n",
      "  Downloading MIDIUtil-1.2.1.tar.gz (1.0 MB)\n",
      "\u001b[2K     \u001b[90m━━━━━━━━━━━━━━━━━━━━━━━━━━━━━━━━━━━━━━━━\u001b[0m \u001b[32m1.0/1.0 MB\u001b[0m \u001b[31m17.9 MB/s\u001b[0m eta \u001b[36m0:00:00\u001b[0m:00:01\u001b[0m\n",
      "\u001b[?25h  Installing build dependencies ... \u001b[?25ldone\n",
      "\u001b[?25h  Getting requirements to build wheel ... \u001b[?25ldone\n",
      "\u001b[?25h  Preparing metadata (pyproject.toml) ... \u001b[?25ldone\n",
      "\u001b[?25hBuilding wheels for collected packages: midiutil\n",
      "  Building wheel for midiutil (pyproject.toml) ... \u001b[?25ldone\n",
      "\u001b[?25h  Created wheel for midiutil: filename=MIDIUtil-1.2.1-py3-none-any.whl size=54567 sha256=6d1ffd902f162b20cab452b91c2e5ee21dff5cd3bae9f6ebbfc2c5ad86dd6dce\n",
      "  Stored in directory: /home/codespace/.cache/pip/wheels/af/43/4a/00b5e4f2fe5e2cd6e92b461995a3a97a2cebb30ab5783501b0\n",
      "Successfully built midiutil\n",
      "Installing collected packages: midiutil\n",
      "Successfully installed midiutil-1.2.1\n",
      "\n",
      "\u001b[1m[\u001b[0m\u001b[34;49mnotice\u001b[0m\u001b[1;39;49m]\u001b[0m\u001b[39;49m A new release of pip is available: \u001b[0m\u001b[31;49m23.3.1\u001b[0m\u001b[39;49m -> \u001b[0m\u001b[32;49m24.1.2\u001b[0m\n",
      "\u001b[1m[\u001b[0m\u001b[34;49mnotice\u001b[0m\u001b[1;39;49m]\u001b[0m\u001b[39;49m To update, run: \u001b[0m\u001b[32;49mpython -m pip install --upgrade pip\u001b[0m\n"
     ]
    }
   ],
   "source": [
    "!pip install midiutil\n"
   ]
  },
  {
   "cell_type": "code",
   "execution_count": 4,
   "metadata": {},
   "outputs": [
    {
     "name": "stdout",
     "output_type": "stream",
     "text": [
      "MIDI file created successfully: /workspaces/codespaces-jupyter/explore/jazz_city_pop_summer_chords.mid\n"
     ]
    }
   ],
   "source": [
    "from midiutil import MIDIFile\n",
    "\n",
    "# Create a MIDI object\n",
    "midi = MIDIFile(1)\n",
    "\n",
    "# Track settings\n",
    "track = 0\n",
    "time = 0\n",
    "midi.addTrackName(track, time, \"Jazz City Pop Summer Chords\")\n",
    "midi.addTempo(track, time, 120)\n",
    "\n",
    "# Chord progression\n",
    "chords = {\n",
    "    \"Gmaj7\": [55, 59, 62, 66],\n",
    "    \"Cmaj7\": [48, 52, 55, 59],\n",
    "    \"Am7\": [45, 48, 52, 55],\n",
    "    \"D7\": [50, 54, 57, 60],\n",
    "    \"Bm7\": [47, 50, 54, 57],\n",
    "    \"E7\": [52, 56, 59, 62],\n",
    "    \"Em7\": [52, 55, 59, 62],\n",
    "    \"A7\": [57, 61, 64, 67]\n",
    "}\n",
    "\n",
    "# Duration of each chord\n",
    "duration = 2\n",
    "\n",
    "# Add chords to the MIDI file\n",
    "for chord_name in chords:\n",
    "    chord = chords[chord_name]\n",
    "    for note in chord:\n",
    "        midi.addNote(track, 0, note, time, duration, 100)\n",
    "    time += duration\n",
    "\n",
    "# Save the MIDI file to the specified directory\n",
    "file_path = \"/workspaces/codespaces-jupyter/explore/jazz_city_pop_summer_chords.mid\"\n",
    "with open(file_path, \"wb\") as output_file:\n",
    "    midi.writeFile(output_file)\n",
    "\n",
    "print(f\"MIDI file created successfully: {file_path}\")\n"
   ]
  },
  {
   "cell_type": "code",
   "execution_count": 5,
   "metadata": {},
   "outputs": [
    {
     "name": "stdout",
     "output_type": "stream",
     "text": [
      "MIDI file created successfully: /workspaces/codespaces-jupyter/explore/jazz_city_pop_summer_chords_varied.mid\n"
     ]
    }
   ],
   "source": [
    "from midiutil import MIDIFile\n",
    "\n",
    "# Create a MIDI object\n",
    "midi = MIDIFile(1)\n",
    "\n",
    "# Track settings\n",
    "track = 0\n",
    "time = 0\n",
    "midi.addTrackName(track, time, \"Jazz City Pop Summer Chords\")\n",
    "midi.addTempo(track, time, 120)\n",
    "\n",
    "# Chord progression with variations\n",
    "chords = {\n",
    "    \"Gmaj7\": [55, 59, 62, 66],\n",
    "    \"Cmaj7\": [48, 52, 55, 59],\n",
    "    \"Bm7\": [47, 50, 54, 57],\n",
    "    \"E9\": [52, 56, 59, 62, 65],\n",
    "    \"Am7\": [45, 48, 52, 55],\n",
    "    \"D13\": [50, 54, 57, 60, 64, 69],\n",
    "    \"G7\": [55, 59, 62, 65],\n",
    "    \"Cmaj9\": [48, 52, 55, 59, 62],\n",
    "    \"F#m7b5\": [54, 57, 61, 64],\n",
    "    \"B7b9\": [47, 50, 54, 57, 60],\n",
    "    \"Em7\": [52, 55, 59, 62],\n",
    "    \"A13\": [57, 61, 64, 67, 71, 74],\n",
    "    \"Dm7\": [50, 53, 57, 60],\n",
    "    \"G13\": [55, 59, 62, 65, 69, 72]\n",
    "}\n",
    "\n",
    "# Duration of each chord\n",
    "duration = 2\n",
    "\n",
    "# Add chords to the MIDI file\n",
    "for chord_name in chords:\n",
    "    chord = chords[chord_name]\n",
    "    for note in chord:\n",
    "        midi.addNote(track, 0, note, time, duration, 100)\n",
    "    time += duration\n",
    "\n",
    "# Save the MIDI file to the specified directory\n",
    "file_path = \"/workspaces/codespaces-jupyter/explore/jazz_city_pop_summer_chords_varied.mid\"\n",
    "with open(file_path, \"wb\") as output_file:\n",
    "    midi.writeFile(output_file)\n",
    "\n",
    "print(f\"MIDI file created successfully: {file_path}\")\n"
   ]
  }
 ],
 "metadata": {
  "kernelspec": {
   "display_name": "Python 3",
   "language": "python",
   "name": "python3"
  },
  "language_info": {
   "codemirror_mode": {
    "name": "ipython",
    "version": 3
   },
   "file_extension": ".py",
   "mimetype": "text/x-python",
   "name": "python",
   "nbconvert_exporter": "python",
   "pygments_lexer": "ipython3",
   "version": "3.10.13"
  }
 },
 "nbformat": 4,
 "nbformat_minor": 2
}
