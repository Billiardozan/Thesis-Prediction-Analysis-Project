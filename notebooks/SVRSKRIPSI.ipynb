{
 "cells": [
  {
   "cell_type": "markdown",
   "metadata": {},
   "source": [
    "# Data Understanding\n",
    "### a. Impor library dan Load Dataset"
   ]
  },
  {
   "cell_type": "code",
   "execution_count": null,
   "metadata": {},
   "outputs": [],
   "source": [
    "import pandas as pd\n",
    "import seaborn as sns\n",
    "import matplotlib.pyplot as plt\n",
    "\n",
    "# Load dataset\n",
    "file_path = '/workspaces/codespaces-jupyter/data/processed/harga_sayuran_clean.csv'\n",
    "data = pd.read_csv(file_path)\n",
    "\n",
    "# Konversi 'Tanggal Harga' ke datetime, tangani format tanggal yang tidak konsisten\n",
    "data['Tanggal Harga'] = pd.to_datetime(data['Tanggal Harga'], dayfirst=True, errors='coerce')\n",
    "\n",
    "# Hapus baris dengan tanggal tidak valid\n",
    "data = data.dropna(subset=['Tanggal Harga'])\n",
    "\n",
    "# Ekstrak fitur dari tanggal\n",
    "data['Year'] = data['Tanggal Harga'].dt.year\n",
    "data['Month'] = data['Tanggal Harga'].dt.month\n",
    "\n",
    "data.head()\n"
   ]
  },
  {
   "cell_type": "markdown",
   "metadata": {},
   "source": [
    "### b. Visualisasi distribusi harga"
   ]
  },
  {
   "cell_type": "code",
   "execution_count": null,
   "metadata": {},
   "outputs": [],
   "source": [
    "# Plot distribusi harga pasar untuk setiap jenis sayuran\n",
    "plt.figure(figsize=(12, 6))\n",
    "sns.boxplot(x='Jenis Sayuran', y='Harga Beli Pasar per Kilogram', data=data)\n",
    "plt.title('Distribusi Harga Pasar untuk Setiap Jenis Sayuran')\n",
    "plt.xticks(rotation=45)\n",
    "plt.show()\n"
   ]
  },
  {
   "cell_type": "markdown",
   "metadata": {},
   "source": [
    "### c. Visualisasi Tren Musiman"
   ]
  },
  {
   "cell_type": "code",
   "execution_count": null,
   "metadata": {},
   "outputs": [],
   "source": [
    "# Plot rata-rata harga pasar per bulan untuk setiap jenis sayuran\n",
    "plt.figure(figsize=(14, 7))\n",
    "sns.lineplot(x='Month', y='Harga Beli Pasar per Kilogram', hue='Jenis Sayuran', data=data)\n",
    "plt.title('Rata-rata Harga Pasar per Bulan untuk Setiap Jenis Sayuran')\n",
    "plt.show()\n"
   ]
  },
  {
   "cell_type": "markdown",
   "metadata": {},
   "source": [
    "### d. Visualisasi Tren Harga dari Waktu ke Waktu"
   ]
  },
  {
   "cell_type": "code",
   "execution_count": null,
   "metadata": {},
   "outputs": [],
   "source": [
    "# Plot harga pasar dari waktu ke waktu untuk setiap jenis sayuran\n",
    "plt.figure(figsize=(14, 7))\n",
    "sns.lineplot(x='Tanggal Harga', y='Harga Beli Pasar per Kilogram', hue='Jenis Sayuran', data=data)\n",
    "plt.title('Harga Pasar dari Waktu ke Waktu untuk Setiap Jenis Sayuran')\n",
    "plt.xticks(rotation=45)\n",
    "plt.show()\n"
   ]
  },
  {
   "cell_type": "markdown",
   "metadata": {},
   "source": [
    "# Data Preparation\n",
    "### a. Penambahan interaksi dan One-Hot Encode Variable Kategorikal"
   ]
  },
  {
   "cell_type": "code",
   "execution_count": null,
   "metadata": {},
   "outputs": [],
   "source": [
    "# Buat interaksi antar fitur\n",
    "data['Year_Month'] = data['Year'] * data['Month']\n",
    "\n",
    "# One-hot encode variabel kategorikal\n",
    "data_encoded = pd.get_dummies(data[['Year', 'Month', 'Year_Month', 'Jenis Sayuran', 'Season']])\n",
    "\n",
    "# Gabungkan dengan variabel target\n",
    "data_encoded['Harga Beli Pasar per Kilogram'] = data['Harga Beli Pasar per Kilogram']\n",
    "\n",
    "# Pisahkan data menjadi set pelatihan dan pengujian\n",
    "from sklearn.model_selection import train_test_split\n",
    "\n",
    "train_data, test_data = train_test_split(data_encoded, test_size=0.2, random_state=42)\n",
    "\n",
    "# Pisahkan fitur dan variabel target\n",
    "X_train = train_data.drop(columns=['Harga Beli Pasar per Kilogram'])\n",
    "y_train = train_data['Harga Beli Pasar per Kilogram']\n",
    "X_test = test_data.drop(columns=['Harga Beli Pasar per Kilogram'])\n",
    "y_test = test_data['Harga Beli Pasar per Kilogram']\n",
    "\n",
    "# Standarisasi fitur\n",
    "from sklearn.preprocessing import StandardScaler\n",
    "\n",
    "scaler = StandardScaler()\n",
    "X_train_scaled = scaler.fit_transform(X_train)\n",
    "X_test_scaled = scaler.transform(X_test)\n"
   ]
  },
  {
   "cell_type": "markdown",
   "metadata": {},
   "source": [
    "# Modeling\n",
    "### a. Model Latih SVR\n"
   ]
  },
  {
   "cell_type": "code",
   "execution_count": null,
   "metadata": {},
   "outputs": [],
   "source": [
    "from sklearn.svm import SVR\n",
    "\n",
    "# Inisialisasi model SVR\n",
    "svr = SVR(kernel='rbf', C=100, gamma=0.1, epsilon=0.1)\n",
    "\n",
    "# Latih model\n",
    "svr.fit(X_train_scaled, y_train)\n",
    "\n",
    "# Buat prediksi pada set pengujian\n",
    "y_pred_svr = svr.predict(X_test_scaled)\n"
   ]
  },
  {
   "cell_type": "markdown",
   "metadata": {},
   "source": [
    "b. Model latih Gradient Boosting sebagai pembanding"
   ]
  },
  {
   "cell_type": "code",
   "execution_count": null,
   "metadata": {},
   "outputs": [],
   "source": [
    "from sklearn.ensemble import GradientBoostingRegressor\n",
    "\n",
    "# Inisialisasi model GradientBoostingRegressor\n",
    "gb = GradientBoostingRegressor(n_estimators=100, random_state=42)\n",
    "\n",
    "# Latih model\n",
    "gb.fit(X_train_scaled, y_train)\n",
    "\n",
    "# Buat prediksi pada set pengujian\n",
    "y_pred_gb = gb.predict(X_test_scaled)\n"
   ]
  },
  {
   "cell_type": "markdown",
   "metadata": {},
   "source": [
    "# Evaluation\n",
    "### Hitung metrik evaluasi untuk kedua model"
   ]
  },
  {
   "cell_type": "code",
   "execution_count": null,
   "metadata": {},
   "outputs": [],
   "source": [
    "from sklearn.metrics import mean_squared_error, r2_score\n",
    "\n",
    "# Metrik evaluasi untuk SVR\n",
    "mse_svr = mean_squared_error(y_test, y_pred_svr)\n",
    "r2_svr = r2_score(y_test, y_pred_svr)\n",
    "\n",
    "print(f\"SVR - Mean Squared Error: {mse_svr}\")\n",
    "print(f\"SVR - R-squared: {r2_svr}\")\n",
    "\n",
    "# Metrik evaluasi untuk Gradient Boosting\n",
    "mse_gb = mean_squared_error(y_test, y_pred_gb)\n",
    "r2_gb = r2_score(y_test, y_pred_gb)\n",
    "\n",
    "print(f\"Gradient Boosting - Mean Squared Error: {mse_gb}\")\n",
    "print(f\"Gradient Boosting - R-squared: {r2_gb}\")\n"
   ]
  }
 ],
 "metadata": {
  "kernelspec": {
   "display_name": "Python 3",
   "language": "python",
   "name": "python3"
  },
  "language_info": {
   "codemirror_mode": {
    "name": "ipython",
    "version": 3
   },
   "file_extension": ".py",
   "mimetype": "text/x-python",
   "name": "python",
   "nbconvert_exporter": "python",
   "pygments_lexer": "ipython3",
   "version": "3.10.13"
  }
 },
 "nbformat": 4,
 "nbformat_minor": 2
}
