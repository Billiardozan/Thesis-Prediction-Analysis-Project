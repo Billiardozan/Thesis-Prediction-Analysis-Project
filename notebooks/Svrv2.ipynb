{
 "cells": [
  {
   "cell_type": "code",
   "execution_count": 8,
   "metadata": {},
   "outputs": [
    {
     "name": "stderr",
     "output_type": "stream",
     "text": [
      "/tmp/ipykernel_7035/1354458340.py:14: UserWarning: Parsing dates in MM/DD/YYYY format when dayfirst=True was specified. This may lead to inconsistently parsed dates! Specify a format to ensure consistent parsing.\n",
      "  data['Tanggal Harga'] = pd.to_datetime(data['Tanggal Harga'], dayfirst=True, errors='coerce')\n"
     ]
    },
    {
     "name": "stdout",
     "output_type": "stream",
     "text": [
      "Mean Squared Error: 47232488.78359342\n",
      "R-squared: 0.8587258828904004\n"
     ]
    }
   ],
   "source": [
    "import pandas as pd\n",
    "import numpy as np\n",
    "from sklearn.model_selection import train_test_split\n",
    "from sklearn.preprocessing import StandardScaler\n",
    "from sklearn.svm import SVR\n",
    "from sklearn.metrics import mean_squared_error, r2_score\n",
    "import joblib\n",
    "\n",
    "# Load the dataset\n",
    "file_path = '/workspaces/codespaces-jupyter/data/processed/harga_sayuran_clean.csv'\n",
    "data = pd.read_csv(file_path)\n",
    "\n",
    "# Convert 'Tanggal Harga' to datetime, handle inconsistent date formats\n",
    "data['Tanggal Harga'] = pd.to_datetime(data['Tanggal Harga'], dayfirst=True, errors='coerce')\n",
    "\n",
    "# Drop rows with invalid dates\n",
    "data = data.dropna(subset=['Tanggal Harga'])\n",
    "\n",
    "# Extract features from the date\n",
    "data['Year'] = data['Tanggal Harga'].dt.year\n",
    "data['Month'] = data['Tanggal Harga'].dt.month\n",
    "\n",
    "# Select features and target variable\n",
    "features = ['Year', 'Month', 'Jenis Sayuran', 'Season']\n",
    "target = 'Harga Beli Pasar per Kilogram'\n",
    "\n",
    "# One-hot encode categorical variables\n",
    "data_encoded = pd.get_dummies(data[features])\n",
    "\n",
    "# Combine with target variable\n",
    "data_encoded[target] = data[target]\n",
    "\n",
    "# Split the data into training and testing sets\n",
    "train_data, test_data = train_test_split(data_encoded, test_size=0.2, random_state=42)\n",
    "\n",
    "# Separate features and target variable\n",
    "X_train = train_data.drop(columns=[target])\n",
    "y_train = train_data[target]\n",
    "X_test = test_data.drop(columns=[target])\n",
    "y_test = test_data[target]\n",
    "\n",
    "# Standardize the features\n",
    "scaler = StandardScaler()\n",
    "X_train_scaled = scaler.fit_transform(X_train)\n",
    "X_test_scaled = scaler.transform(X_test)\n",
    "\n",
    "# Initialize the SVR model\n",
    "svr = SVR(kernel='rbf', C=100, gamma=0.1, epsilon=0.1)\n",
    "\n",
    "# Train the model\n",
    "svr.fit(X_train_scaled, y_train)\n",
    "\n",
    "# Make predictions on the test set\n",
    "y_pred = svr.predict(X_test_scaled)\n",
    "\n",
    "# Evaluate the model\n",
    "mse = mean_squared_error(y_test, y_pred)\n",
    "r2 = r2_score(y_test, y_pred)\n",
    "\n",
    "print(f\"Mean Squared Error: {mse}\")\n",
    "print(f\"R-squared: {r2}\")"
   ]
  },
  {
   "cell_type": "code",
   "execution_count": 10,
   "metadata": {},
   "outputs": [],
   "source": [
    "# Create future dates for the next 3-6 months\n",
    "future_dates = pd.date_range(start='2024-07-01', periods=6, freq='M')\n",
    "\n",
    "# List of vegetables\n",
    "vegetables = data['Jenis Sayuran'].unique()\n",
    "\n",
    "# Generate the feature set for future dates for each vegetable\n",
    "forecast_results = pd.DataFrame()\n",
    "\n",
    "for vegetable in vegetables:\n",
    "    future_data = pd.DataFrame({\n",
    "        'Year': future_dates.year,\n",
    "        'Month': future_dates.month,\n",
    "        'Jenis Sayuran': vegetable,  # Example for one vegetable, you can loop for others\n",
    "        'Season': 'Kemarau'  # Assuming the next few months are dry season\n",
    "    })\n",
    "\n",
    "    # One-hot encode categorical variables\n",
    "    future_data_encoded = pd.get_dummies(future_data)\n",
    "    future_data_encoded = future_data_encoded.reindex(columns=X_train.columns, fill_value=0)\n",
    "\n",
    "    # Standardize the future data\n",
    "    future_data_scaled = scaler.transform(future_data_encoded)\n",
    "\n",
    "    # Make future predictions\n",
    "    future_predictions = svr.predict(future_data_scaled)\n",
    "\n",
    "    # Prepare the results for the dashboard\n",
    "    forecast = pd.DataFrame({\n",
    "        'Tanggal Harga': future_dates,\n",
    "        'Jenis Sayuran': vegetable,\n",
    "        'Harga Beli Pasar per Kilogram': future_predictions\n",
    "    })\n",
    "\n",
    "    forecast_results = pd.concat([forecast_results, forecast])\n"
   ]
  },
  {
   "cell_type": "code",
   "execution_count": 12,
   "metadata": {},
   "outputs": [
    {
     "data": {
      "text/plain": [
       "['additional_info.pkl']"
      ]
     },
     "execution_count": 12,
     "metadata": {},
     "output_type": "execute_result"
    }
   ],
   "source": [
    "\n",
    "# Save the trained model\n",
    "joblib.dump(svr, 'svr_model.pkl')\n",
    "\n",
    "# Save the scaler\n",
    "joblib.dump(scaler, 'scaler.pkl')\n",
    "\n",
    "# Save the forecast results\n",
    "forecast_results.to_csv('forecast_results.csv', index=False)\n",
    "\n",
    "# Determine the best vegetable for 2024\n",
    "best_vegetable = forecast_results.groupby('Jenis Sayuran')['Harga Beli Pasar per Kilogram'].mean().idxmax()\n",
    "best_price_performance = forecast_results.groupby('Jenis Sayuran')['Harga Beli Pasar per Kilogram'].mean().max()\n",
    "\n",
    "# Save additional information\n",
    "additional_info = {\n",
    "    'best_vegetable': best_vegetable,\n",
    "    'best_price_performance': best_price_performance,\n",
    "    'seasons_2024': {\n",
    "        'January - March': 'Rainy Season',\n",
    "        'April - June': 'Transition to Dry Season',\n",
    "        'July - September': 'Dry Season',\n",
    "        'October - December': 'Transition to Rainy Season'\n",
    "    },\n",
    "    'recommendations': {\n",
    "        'plant': ['Sawi Putih', 'Cabe Chilli'],\n",
    "        'avoid': ['Cabe Rawit', 'Kol']\n",
    "    }\n",
    "}\n",
    "joblib.dump(additional_info, 'additional_info.pkl')"
   ]
  }
 ],
 "metadata": {
  "kernelspec": {
   "display_name": "Python 3",
   "language": "python",
   "name": "python3"
  },
  "language_info": {
   "codemirror_mode": {
    "name": "ipython",
    "version": 3
   },
   "file_extension": ".py",
   "mimetype": "text/x-python",
   "name": "python",
   "nbconvert_exporter": "python",
   "pygments_lexer": "ipython3",
   "version": "3.10.13"
  }
 },
 "nbformat": 4,
 "nbformat_minor": 2
}
